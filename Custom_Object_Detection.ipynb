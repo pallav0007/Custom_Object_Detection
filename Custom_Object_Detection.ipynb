{
  "nbformat": 4,
  "nbformat_minor": 0,
  "metadata": {
    "colab": {
      "name": "Custom_Object_Detection.ipynb",
      "provenance": [],
      "authorship_tag": "ABX9TyNAknsSJB7JilSOh45weWQk",
      "include_colab_link": true
    },
    "kernelspec": {
      "name": "python3",
      "display_name": "Python 3"
    },
    "language_info": {
      "name": "python"
    },
    "accelerator": "GPU"
  },
  "cells": [
    {
      "cell_type": "markdown",
      "metadata": {
        "id": "view-in-github",
        "colab_type": "text"
      },
      "source": [
        "<a href=\"https://colab.research.google.com/github/pallav0007/Custom_Object_Detection/blob/main/Custom_Object_Detection.ipynb\" target=\"_parent\"><img src=\"https://colab.research.google.com/assets/colab-badge.svg\" alt=\"Open In Colab\"/></a>"
      ]
    },
    {
      "cell_type": "code",
      "metadata": {
        "id": "F2djmbnxNIRP"
      },
      "source": [
        "#mounting the drive \n",
        "import os\n",
        "from google.colab import drive\n",
        "MOUNTPOINT = '/content/gdrive'\n",
        "DATADIR = os.path.join(MOUNTPOINT, 'MyDrive')\n",
        "drive.mount(MOUNTPOINT)"
      ],
      "execution_count": null,
      "outputs": []
    },
    {
      "cell_type": "code",
      "metadata": {
        "id": "ydYPJQ84NO4a"
      },
      "source": [
        "#download the web file for the pretrained model \n",
        "!wget https://github.com/OlafenwaMoses/ImageAI/releases/download/essential-v4/pretrained-yolov3.h5"
      ],
      "execution_count": null,
      "outputs": []
    },
    {
      "cell_type": "code",
      "metadata": {
        "id": "KG9Asn9wNPJr"
      },
      "source": [
        "#optionally move the temporary file to mounted driv\n",
        "!mv /content/models/pretrained-yolov3.h5 /content/gdrive/My\\ Drive/"
      ],
      "execution_count": null,
      "outputs": []
    },
    {
      "cell_type": "code",
      "metadata": {
        "id": "vQPpDB_vNPPM"
      },
      "source": [
        "#install the dependencies for the project\n",
        "!pip install keras==2.4.3 numpy==1.19.3 pillow==7.0.0 scipy==1.4.1 h5py==2.10.0 matplotlib==3.3.2 opencv-python keras-resnet==0.2.0\n",
        "!pip install imageai"
      ],
      "execution_count": null,
      "outputs": []
    },
    {
      "cell_type": "code",
      "metadata": {
        "id": "X6O_4PeXNPSx"
      },
      "source": [
        "#intializing the trainer object with dataset and labels\n",
        "#we have set model type to YOLOv3\n",
        "\n",
        "import imageai\n",
        "from imageai.Detection.Custom import DetectionModelTrainer\n",
        "\n",
        "dataset=os.path.join(MOUNTPOINT, 'MyDrive','dataset')\n",
        "type_of_objects=[\"thumbsup\",\"thumbsdown\",\"bulb\",\"bottle\",\"face\",\"curtain\"]\n",
        "trainer = DetectionModelTrainer()\n",
        "trainer.setModelTypeAsYOLOv3()\n",
        "trainer.setDataDirectory(data_directory=dataset)\n",
        "trainer.setTrainConfig(object_names_array=type_of_objects, batch_size=4, num_experiments=10, train_from_pretrained_model=\"pretrained-yolov3.h5\")\n",
        "trainer.trainModel()"
      ],
      "execution_count": null,
      "outputs": []
    },
    {
      "cell_type": "code",
      "metadata": {
        "id": "E1x8wQyiPQt_"
      },
      "source": [
        "#colab code to access webcam\n",
        "from IPython.display import display, Javascript\n",
        "from google.colab.output import eval_js\n",
        "from base64 import b64decode\n",
        "\n",
        "def take_photo(filename='photo.jpg', quality=0.8):\n",
        "  js = Javascript('''\n",
        "    async function takePhoto(quality) {\n",
        "      const div = document.createElement('div');\n",
        "      const capture = document.createElement('button');\n",
        "      capture.textContent = 'Capture';\n",
        "      div.appendChild(capture);\n",
        "\n",
        "      const video = document.createElement('video');\n",
        "      video.style.display = 'block';\n",
        "      const stream = await navigator.mediaDevices.getUserMedia({video: true});\n",
        "\n",
        "      document.body.appendChild(div);\n",
        "      div.appendChild(video);\n",
        "      video.srcObject = stream;\n",
        "      await video.play();\n",
        "\n",
        "      // Resize the output to fit the video element.\n",
        "      google.colab.output.setIframeHeight(document.documentElement.scrollHeight, true);\n",
        "\n",
        "      // Wait for Capture to be clicked.\n",
        "      await new Promise((resolve) => capture.onclick = resolve);\n",
        "\n",
        "      const canvas = document.createElement('canvas');\n",
        "      canvas.width = video.videoWidth;\n",
        "      canvas.height = video.videoHeight;\n",
        "      canvas.getContext('2d').drawImage(video, 0, 0);\n",
        "      stream.getVideoTracks()[0].stop();\n",
        "      div.remove();\n",
        "      return canvas.toDataURL('image/jpeg', quality);\n",
        "    }\n",
        "    ''')\n",
        "  display(js)\n",
        "  data = eval_js('takePhoto({})'.format(quality))\n",
        "  binary = b64decode(data.split(',')[1])\n",
        "  with open(filename, 'wb') as f:\n",
        "    f.write(binary)\n",
        "  return filename"
      ],
      "execution_count": null,
      "outputs": []
    },
    {
      "cell_type": "code",
      "metadata": {
        "id": "mi2c-SriPYIi"
      },
      "source": [
        "from IPython.display import Image\n",
        "try:\n",
        "  filename = take_photo()\n",
        "  print('Saved to {}'.format(filename))\n",
        "  \n",
        "  # Show the image which was just taken.\n",
        "  display(Image(filename))\n",
        "except Exception as err:\n",
        "  # Errors will be thrown if the user does not have a webcam or if they do not\n",
        "  # grant the page permission to access it.\n",
        "  print(str(err))"
      ],
      "execution_count": null,
      "outputs": []
    },
    {
      "cell_type": "code",
      "metadata": {
        "id": "qKmrGrmBQxZ5"
      },
      "source": [
        "%matplotlib inline\n",
        "#The line above is necesary to show Matplotlib's plots inside a Jupyter Notebook\n",
        "\n",
        "import cv2\n",
        "from matplotlib import pyplot as plt\n",
        "\n",
        "#function to display detected box points in image\n",
        "def display_detection(name,percentage_probability,box_points):\n",
        "  x,y,w,h=box_points\n",
        "  image = cv2.imread(\"/content/holo3-detected.jpg\")\n",
        "  image = cv2.rectangle(image, (x, y), (x + w, y + h), (36,255,12), 1)\n",
        "  cv2.putText(image,f\"{name}-{percentage_probability}\", (x, y-10), cv2.FONT_HERSHEY_SIMPLEX, 0.9, (36,255,12), 2)\n",
        "  #Show the image with matplotlib\n",
        "  plt.imshow(image)\n",
        "  plt.show()"
      ],
      "execution_count": null,
      "outputs": []
    },
    {
      "cell_type": "code",
      "metadata": {
        "id": "JwGN3WRPOxq9"
      },
      "source": [
        "#initialize the detection object \n",
        "#set model path to model saved by the trainer object\n",
        "#use configuration save by trainer in config.json\n",
        "#use the image captured by webcam (by defaulted name photo.jpg)\n",
        "\n",
        "from imageai.Detection.Custom import CustomObjectDetection\n",
        "\n",
        "detector = CustomObjectDetection()\n",
        "detector.setModelTypeAsYOLOv3()\n",
        "detector.setModelPath(\"/content/gdrive/MyDrive/dataset/models/detection_model-ex-006--loss-0041.969.h5\") \n",
        "detector.setJsonPath(\"/content/gdrive/MyDrive/dataset/json/detection_config.json\")\n",
        "detector.loadModel()\n",
        "detections = detector.detectObjectsFromImage(input_image=\"photo.jpg\", output_image_path=\"detected.jpg\")\n",
        "for detection in detections:\n",
        "    display_detection(**detection)\n",
        "    print(detection[\"name\"], \" : \", detection[\"percentage_probability\"], \" : \", detection[\"box_points\"])"
      ],
      "execution_count": null,
      "outputs": []
    }
  ]
}